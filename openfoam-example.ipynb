{
  "cells": [
    {
      "cell_type": "code",
      "execution_count": 23,
      "metadata": {
        "collapsed": false
      },
      "outputs": [],
      "source": [
        "%matplotlib inline"
      ]
    },
    {
      "cell_type": "markdown",
      "metadata": {},
      "source": [
        "Plot OpenFOAM data {#openfoam_example}\n",
        "==================\n"
      ]
    },
    {
      "cell_type": "code",
      "execution_count": 24,
      "metadata": {
        "collapsed": false
      },
      "outputs": [],
      "source": [
        "from __future__ import annotations\n",
        "\n",
        "import pyvista\n",
        "from pyvista import examples"
      ]
    },
    {
      "cell_type": "markdown",
      "metadata": {},
      "source": [
        "This example uses data from a lid-driven cavity flow. It is recommended\n",
        "to use `pyvista.POpenFOAMReader`{.interpreted-text role=\"class\"} for\n",
        "reading OpenFOAM files for more control over reading data.\n",
        "\n",
        "This example will only run correctly in versions of vtk\\>=9.1.0. The\n",
        "names of the patch arrays and resulting keys in the read mesh will be\n",
        "different in prior versions.\n"
      ]
    },
    {
      "cell_type": "code",
      "execution_count": 25,
      "metadata": {
        "collapsed": false
      },
      "outputs": [
        {
          "name": "stdout",
          "output_type": "stream",
          "text": [
            "/home/jdark/.cache/pyvista_3/OpenFOAM.zip.unzip/OpenFOAM/cavity/case.foam\n"
          ]
        }
      ],
      "source": [
        "filename = examples.download_cavity(load=False)\n",
        "reader = pyvista.POpenFOAMReader(filename)\n",
        "print(filename)"
      ]
    },
    {
      "cell_type": "markdown",
      "metadata": {},
      "source": [
        "OpenFOAM datasets include multiple sub-datasets including the internal\n",
        "mesh and patches, typically boundaries. This can be inspected before\n",
        "reading the data.\n"
      ]
    },
    {
      "cell_type": "code",
      "execution_count": 26,
      "metadata": {
        "collapsed": false
      },
      "outputs": [
        {
          "name": "stdout",
          "output_type": "stream",
          "text": [
            "All patch names: ['internalMesh', 'patch/movingWall', 'patch/fixedWalls', 'patch/frontAndBack']\n",
            "All patch status: {'internalMesh': True, 'patch/movingWall': True, 'patch/fixedWalls': True, 'patch/frontAndBack': True}\n"
          ]
        }
      ],
      "source": [
        "print(f\"All patch names: {reader.patch_array_names}\")\n",
        "print(f\"All patch status: {reader.all_patch_arrays_status}\")"
      ]
    },
    {
      "cell_type": "markdown",
      "metadata": {},
      "source": [
        "This data is represented as a `pyvista.MultiBlock`{.interpreted-text\n",
        "role=\"class\"} object. The internal mesh will be located in the top-level\n",
        "MultiBlock mesh.\n"
      ]
    },
    {
      "cell_type": "code",
      "execution_count": 27,
      "metadata": {
        "collapsed": false
      },
      "outputs": [
        {
          "name": "stdout",
          "output_type": "stream",
          "text": [
            "Mesh patches: ['internalMesh', 'boundary']\n"
          ]
        }
      ],
      "source": [
        "mesh = reader.read()\n",
        "print(f\"Mesh patches: {mesh.keys()}\")\n",
        "internal_mesh = mesh[\"internalMesh\"]  # or internal_mesh = mesh[0]"
      ]
    },
    {
      "cell_type": "markdown",
      "metadata": {},
      "source": [
        "In this case the internal mesh is a\n",
        "`pyvista.UnstructuredGrid`{.interpreted-text role=\"class\"}.\n"
      ]
    },
    {
      "cell_type": "code",
      "execution_count": 28,
      "metadata": {
        "collapsed": false
      },
      "outputs": [
        {
          "name": "stdout",
          "output_type": "stream",
          "text": [
            "UnstructuredGrid (0x7f2e25e24520)\n",
            "  N Cells:    400\n",
            "  N Points:   882\n",
            "  X Bounds:   0.000e+00, 1.000e-01\n",
            "  Y Bounds:   0.000e+00, 1.000e-01\n",
            "  Z Bounds:   0.000e+00, 1.000e-02\n",
            "  N Arrays:   4\n"
          ]
        }
      ],
      "source": [
        "print(internal_mesh)"
      ]
    },
    {
      "cell_type": "markdown",
      "metadata": {},
      "source": [
        "Additional Patch meshes are nested inside another MultiBlock mesh. The\n",
        "name of the sub-level MultiBlock mesh depends on the vtk version.\n"
      ]
    },
    {
      "cell_type": "code",
      "execution_count": 29,
      "metadata": {
        "collapsed": false
      },
      "outputs": [
        {
          "name": "stdout",
          "output_type": "stream",
          "text": [
            "MultiBlock (0x7f2e25e24160)\n",
            "  N Blocks    3\n",
            "  X Bounds    0.000, 0.100\n",
            "  Y Bounds    0.000, 0.100\n",
            "  Z Bounds    0.000, 0.010\n",
            "Boundaries patches: ['movingWall', 'fixedWalls', 'frontAndBack']\n",
            "PolyData (0x7f2e25dfae00)\n",
            "  N Cells:    20\n",
            "  N Points:   42\n",
            "  N Strips:   0\n",
            "  X Bounds:   0.000e+00, 1.000e-01\n",
            "  Y Bounds:   1.000e-01, 1.000e-01\n",
            "  Z Bounds:   0.000e+00, 1.000e-02\n",
            "  N Arrays:   4\n"
          ]
        }
      ],
      "source": [
        "boundaries = mesh[\"boundary\"]\n",
        "print(boundaries)\n",
        "print(f\"Boundaries patches: {boundaries.keys()}\")\n",
        "print(boundaries[\"movingWall\"])"
      ]
    },
    {
      "cell_type": "markdown",
      "metadata": {},
      "source": [
        "The default in OpenFOAMReader is to translate the existing cell data to\n",
        "point data. Therefore, the cell data arrays are duplicated in point\n",
        "data.\n"
      ]
    },
    {
      "cell_type": "code",
      "execution_count": 30,
      "metadata": {
        "collapsed": false
      },
      "outputs": [
        {
          "name": "stdout",
          "output_type": "stream",
          "text": [
            "Cell Data:\n",
            "pyvista DataSetAttributes\n",
            "Association     : CELL\n",
            "Active Scalars  : p\n",
            "Active Vectors  : U\n",
            "Active Texture  : None\n",
            "Active Normals  : None\n",
            "Contains arrays :\n",
            "    U                       float32    (400, 3)             VECTORS\n",
            "    p                       float32    (400,)               SCALARS\n",
            "\n",
            "Point Data:\n",
            "pyvista DataSetAttributes\n",
            "Association     : POINT\n",
            "Active Scalars  : p\n",
            "Active Vectors  : U\n",
            "Active Texture  : None\n",
            "Active Normals  : None\n",
            "Contains arrays :\n",
            "    U                       float32    (882, 3)             VECTORS\n",
            "    p                       float32    (882,)               SCALARS\n"
          ]
        }
      ],
      "source": [
        "print(\"Cell Data:\")\n",
        "print(internal_mesh.cell_data)\n",
        "print(\"\\nPoint Data:\")\n",
        "print(internal_mesh.point_data)"
      ]
    },
    {
      "cell_type": "markdown",
      "metadata": {},
      "source": [
        "This behavior can be turned off if only cell data is required.\n"
      ]
    },
    {
      "cell_type": "code",
      "execution_count": 31,
      "metadata": {
        "collapsed": false
      },
      "outputs": [
        {
          "name": "stdout",
          "output_type": "stream",
          "text": [
            "Cell Data:\n",
            "pyvista DataSetAttributes\n",
            "Association     : CELL\n",
            "Active Scalars  : p\n",
            "Active Vectors  : U\n",
            "Active Texture  : None\n",
            "Active Normals  : None\n",
            "Contains arrays :\n",
            "    U                       float32    (400, 3)             VECTORS\n",
            "    p                       float32    (400,)               SCALARS\n",
            "\n",
            "Point Data:\n",
            "pyvista DataSetAttributes\n",
            "Association     : POINT\n",
            "Active Scalars  : None\n",
            "Active Vectors  : None\n",
            "Active Texture  : None\n",
            "Active Normals  : None\n",
            "Contains arrays : None\n"
          ]
        }
      ],
      "source": [
        "reader.cell_to_point_creation = False\n",
        "internal_mesh = reader.read()[\"internalMesh\"]\n",
        "print(\"Cell Data:\")\n",
        "print(internal_mesh.cell_data)\n",
        "print(\"\\nPoint Data:\")\n",
        "print(internal_mesh.point_data)"
      ]
    },
    {
      "cell_type": "markdown",
      "metadata": {},
      "source": [
        "Now we will read in all the data at the last time point.\n"
      ]
    },
    {
      "cell_type": "code",
      "execution_count": 32,
      "metadata": {
        "collapsed": false
      },
      "outputs": [
        {
          "name": "stdout",
          "output_type": "stream",
          "text": [
            "Available Time Values: [0.0, 0.5, 1.0, 1.5, 2.0, 2.5]\n"
          ]
        }
      ],
      "source": [
        "print(f\"Available Time Values: {reader.time_values}\")\n",
        "reader.set_active_time_value(2.5)\n",
        "reader.cell_to_point_creation = True  # Need point data for streamlines\n",
        "mesh = reader.read()\n",
        "internal_mesh = mesh[\"internalMesh\"]\n",
        "boundaries = mesh[\"boundary\"]"
      ]
    },
    {
      "cell_type": "markdown",
      "metadata": {},
      "source": [
        "This OpenFOAM simulation is in 3D with only 1 cell in the z-direction.\n",
        "First, the solution is sliced in the center of the z-direction.\n",
        "`pyvista.DataSetFilters.streamlines_evenly_spaced_2D`{.interpreted-text\n",
        "role=\"func\"} requires the data to lie in the z=0 plane. So, after the\n",
        "domain sliced, it is translated to `z=0`.\n"
      ]
    },
    {
      "cell_type": "code",
      "execution_count": 33,
      "metadata": {
        "collapsed": false
      },
      "outputs": [],
      "source": [
        "def slice_z_center(mesh):\n",
        "    \"\"\"Slice mesh through center in z normal direction, move to z=0.\"\"\"\n",
        "    slice_mesh = mesh.slice(normal='z')\n",
        "    slice_mesh.translate((0, 0, -slice_mesh.center[-1]), inplace=True)\n",
        "    return slice_mesh\n",
        "\n",
        "\n",
        "slice_internal_mesh = slice_z_center(internal_mesh)\n",
        "slice_boundaries = pyvista.MultiBlock(\n",
        "    {key: slice_z_center(boundaries[key]) for key in boundaries.keys()},\n",
        ")"
      ]
    },
    {
      "cell_type": "markdown",
      "metadata": {},
      "source": [
        "Streamlines are generated using the point data \\\"U\\\".\n"
      ]
    },
    {
      "cell_type": "code",
      "execution_count": 34,
      "metadata": {
        "collapsed": false
      },
      "outputs": [],
      "source": [
        "# streamlines = slice_internal_mesh.streamlines_evenly_spaced_2D(\n",
        "#     vectors='U',\n",
        "#     start_position=(0.05, 0.05, 0),\n",
        "#     separating_distance=1,\n",
        "#     separating_distance_ratio=0.1,\n",
        "# )"
      ]
    },
    {
      "cell_type": "markdown",
      "metadata": {},
      "source": [
        "Plot streamlines colored by velocity magnitude. Additionally, the moving\n",
        "and fixed wall boundaries are plotted.\n"
      ]
    },
    {
      "cell_type": "code",
      "execution_count": 35,
      "metadata": {
        "collapsed": false
      },
      "outputs": [],
      "source": [
        "# plotter = pyvista.Plotter()\n",
        "# plotter.add_mesh(slice_boundaries[\"movingWall\"], color='red', line_width=3)\n",
        "# plotter.add_mesh(slice_boundaries[\"fixedWalls\"], color='black', line_width=3)\n",
        "# plotter.add_mesh(streamlines.tube(radius=0.0005), scalars=\"U\")\n",
        "# plotter.view_xy()\n",
        "# plotter.enable_parallel_projection()\n",
        "# plotter.show()"
      ]
    },
    {
      "cell_type": "code",
      "execution_count": 36,
      "metadata": {},
      "outputs": [
        {
          "name": "stdout",
          "output_type": "stream",
          "text": [
            "['U', 'p']\n",
            "['U', 'p']\n"
          ]
        }
      ],
      "source": [
        "print(internal_mesh.point_data.keys())  # Lists available point-based fields\n",
        "print(internal_mesh.cell_data.keys())   # Lists available cell-based fields\n"
      ]
    },
    {
      "cell_type": "code",
      "execution_count": 37,
      "metadata": {},
      "outputs": [
        {
          "data": {
            "text/plain": [
              "pyvista_ndarray([[ 2.53494e-04, -2.50378e-04,  0.00000e+00],\n",
              "                 [ 1.41338e-04,  1.11475e-04,  0.00000e+00],\n",
              "                 [-1.17699e-03,  5.64654e-04,  0.00000e+00],\n",
              "                 ...,\n",
              "                 [ 5.83952e-01, -7.26601e-02,  0.00000e+00],\n",
              "                 [ 4.15827e-01, -1.27868e-01,  0.00000e+00],\n",
              "                 [ 3.08819e-01, -1.49468e-01,  0.00000e+00]],\n",
              "                shape=(400, 3), dtype=float32)"
            ]
          },
          "execution_count": 37,
          "metadata": {},
          "output_type": "execute_result"
        }
      ],
      "source": [
        "cell_data = internal_mesh.cell_data[\"U\"]  # Example for cell_data\n",
        "cell_data"
      ]
    },
    {
      "cell_type": "code",
      "execution_count": 38,
      "metadata": {},
      "outputs": [
        {
          "name": "stdout",
          "output_type": "stream",
          "text": [
            "dict_keys([np.uint8(12)])\n"
          ]
        }
      ],
      "source": [
        "print(internal_mesh.cells_dict.keys())\n"
      ]
    },
    {
      "cell_type": "code",
      "execution_count": 39,
      "metadata": {},
      "outputs": [],
      "source": [
        "from dolfinx import mesh as dmesh\n",
        "import numpy as np\n",
        "from mpi4py import MPI\n",
        "\n",
        "# Extract points and connectivity\n",
        "points = internal_mesh.points\n",
        "cells = internal_mesh.cells_dict  # Dictionary mapping cell type to connectivity\n",
        "\n",
        "# Assume tetrahedral mesh (modify based on actual mesh type)\n",
        "hex_cells = cells.get(12)  # 12 corresponds to VTK_HEXAHEDRON\n",
        "if hex_cells is None:\n",
        "    raise ValueError(\"No hexahedron cells found in the mesh.\")\n",
        "\n",
        "## Connectivity of the mesh (topology) - The second dimension indicates the type of cell used\n",
        "args_conn = np.argsort(hex_cells, axis=1)\n",
        "rows = np.arange(hex_cells.shape[0])[:, None]\n",
        "connectivity = hex_cells[rows, args_conn]\n",
        "\n",
        "import ufl\n",
        "# Define mesh element\n",
        "shape = \"hexahedron\"\n",
        "degree = 1\n",
        "cell = ufl.Cell(shape)\n",
        "\n",
        "import basix\n",
        "v_cg = basix.ufl.element(\n",
        "    \"Lagrange\", cell.cellname(), 1, shape=(3,)\n",
        ")\n",
        "mesh_ufl = ufl.Mesh(v_cg)\n"
      ]
    },
    {
      "cell_type": "code",
      "execution_count": 40,
      "metadata": {},
      "outputs": [
        {
          "name": "stdout",
          "output_type": "stream",
          "text": [
            "(400, 8)\n"
          ]
        }
      ],
      "source": [
        "print(hex_cells.shape)"
      ]
    },
    {
      "cell_type": "code",
      "execution_count": 41,
      "metadata": {},
      "outputs": [
        {
          "data": {
            "text/plain": [
              "400"
            ]
          },
          "execution_count": 41,
          "metadata": {},
          "output_type": "execute_result"
        }
      ],
      "source": [
        "# Create Dolfinx Mesh\n",
        "domain = dmesh.create_mesh(MPI.COMM_WORLD, connectivity, points, mesh_ufl)\n",
        "domain.topology.index_map(domain.topology.dim).size_global"
      ]
    },
    {
      "cell_type": "code",
      "execution_count": null,
      "metadata": {},
      "outputs": [],
      "source": [
        "import dolfinx\n",
        "v_dg = basix.ufl.element(\n",
        "    \"DG\", cell.cellname(), 0, shape=(3,)\n",
        ")\n",
        "V = dolfinx.fem.functionspace(domain, v_dg)\n",
        "u = dolfinx.fem.Function(V)"
      ]
    },
    {
      "cell_type": "code",
      "execution_count": null,
      "metadata": {},
      "outputs": [
        {
          "name": "stdout",
          "output_type": "stream",
          "text": [
            "[  0   1  20   2  21  40   3  22  41  60   4  23  42  61  80   5  24  43\n",
            "  62  81 100   6  25  44  63  82 101 120   7  26  45  64  83 102 121 140\n",
            "   8  27  46  65  84 103 122 141 160   9  28  47  66  85 104 123 142 161\n",
            " 180  10  29  48  67  86 105 124 143 162 181 200  11  30  49  68  87 106\n",
            " 125 144 163 182 201 220  12  31  50  69  88 107 126 145 164 183 202 221\n",
            " 240  13  32  51  70  89 108 127 146 165 184 203 222 241 260  14  33  52\n",
            "  71  90 109 128 147 166 185 204 223 242 261 280  15  34  53  72  91 110\n",
            " 129 148 167 186 205 224 243 262 281 300  16  35  54  73  92 111 130 149\n",
            " 168 187 206 225 244 263 282 301 320  17  36  55  74  93 112 131 150 169\n",
            " 188 207 226 245 264 283 302 321 340  18  37  56  75  94 113 132 151 170\n",
            " 189 208 227 246 265 284 303 322 341 360  19  38  57  76  95 114 133 152\n",
            " 171 190 209 228 247 266 285 304 323 342 361 380  39  58  77  96 115 134\n",
            " 153 172 191 210 229 248 267 286 305 324 343 362 381  59  78  97 116 135\n",
            " 154 173 192 211 230 249 268 287 306 325 344 363 382  79  98 117 136 155\n",
            " 174 193 212 231 250 269 288 307 326 345 364 383  99 118 137 156 175 194\n",
            " 213 232 251 270 289 308 327 346 365 384 119 138 157 176 195 214 233 252\n",
            " 271 290 309 328 347 366 385 139 158 177 196 215 234 253 272 291 310 329\n",
            " 348 367 386 159 178 197 216 235 254 273 292 311 330 349 368 387 179 198\n",
            " 217 236 255 274 293 312 331 350 369 388 199 218 237 256 275 294 313 332\n",
            " 351 370 389 219 238 257 276 295 314 333 352 371 390 239 258 277 296 315\n",
            " 334 353 372 391 259 278 297 316 335 354 373 392 279 298 317 336 355 374\n",
            " 393 299 318 337 356 375 394 319 338 357 376 395 339 358 377 396 359 378\n",
            " 397 379 398 399]\n",
            "(400,)\n"
          ]
        }
      ],
      "source": [
        "u.x.array[:] = internal_mesh.cell_data[\"U\"][domain.topology.original_cell_index].flatten()\n",
        "\n",
        "print(domain.topology.original_cell_index)\n",
        "print(domain.topology.original_cell_index.shape)"
      ]
    },
    {
      "cell_type": "code",
      "execution_count": 52,
      "metadata": {},
      "outputs": [
        {
          "data": {
            "text/plain": [
              "pyvista_ndarray([[0. , 0. , 0. ],\n",
              "                 [0. , 0. , 0. ],\n",
              "                 [0. , 0. , 0. ],\n",
              "                 ...,\n",
              "                 [1. , 0. , 0. ],\n",
              "                 [1. , 0. , 0. ],\n",
              "                 [0.5, 0. , 0. ]], shape=(882, 3), dtype=float32)"
            ]
          },
          "execution_count": 52,
          "metadata": {},
          "output_type": "execute_result"
        }
      ],
      "source": [
        "internal_mesh.point_data[\"U\"]"
      ]
    },
    {
      "cell_type": "code",
      "execution_count": 51,
      "metadata": {},
      "outputs": [],
      "source": [
        "writer = dolfinx.io.VTXWriter(MPI.COMM_WORLD, \"velocity.bp\", u, engine=\"BP5\")\n",
        "writer.write(t=0)"
      ]
    }
  ],
  "metadata": {
    "kernelspec": {
      "display_name": "fenicsx-env",
      "language": "python",
      "name": "python3"
    },
    "language_info": {
      "codemirror_mode": {
        "name": "ipython",
        "version": 3
      },
      "file_extension": ".py",
      "mimetype": "text/x-python",
      "name": "python",
      "nbconvert_exporter": "python",
      "pygments_lexer": "ipython3",
      "version": "3.12.8"
    }
  },
  "nbformat": 4,
  "nbformat_minor": 0
}
