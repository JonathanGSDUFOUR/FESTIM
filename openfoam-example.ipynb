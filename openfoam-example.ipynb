{
  "cells": [
    {
      "cell_type": "code",
      "execution_count": 1,
      "metadata": {
        "collapsed": false
      },
      "outputs": [],
      "source": [
        "%matplotlib inline"
      ]
    },
    {
      "cell_type": "markdown",
      "metadata": {},
      "source": [
        "Plot OpenFOAM data {#openfoam_example}\n",
        "==================\n"
      ]
    },
    {
      "cell_type": "code",
      "execution_count": 2,
      "metadata": {
        "collapsed": false
      },
      "outputs": [],
      "source": [
        "from __future__ import annotations\n",
        "\n",
        "import pyvista\n",
        "from pyvista import examples"
      ]
    },
    {
      "cell_type": "markdown",
      "metadata": {},
      "source": [
        "This example uses data from a lid-driven cavity flow. It is recommended\n",
        "to use `pyvista.POpenFOAMReader`{.interpreted-text role=\"class\"} for\n",
        "reading OpenFOAM files for more control over reading data.\n",
        "\n",
        "This example will only run correctly in versions of vtk\\>=9.1.0. The\n",
        "names of the patch arrays and resulting keys in the read mesh will be\n",
        "different in prior versions.\n"
      ]
    },
    {
      "cell_type": "code",
      "execution_count": 3,
      "metadata": {
        "collapsed": false
      },
      "outputs": [
        {
          "name": "stdout",
          "output_type": "stream",
          "text": [
            "/home/jdark/.cache/pyvista_3/OpenFOAM.zip.unzip/OpenFOAM/cavity/case.foam\n"
          ]
        }
      ],
      "source": [
        "filename = examples.download_cavity(load=False)\n",
        "reader = pyvista.POpenFOAMReader(filename)\n",
        "print(filename)"
      ]
    },
    {
      "cell_type": "markdown",
      "metadata": {},
      "source": [
        "OpenFOAM datasets include multiple sub-datasets including the internal\n",
        "mesh and patches, typically boundaries. This can be inspected before\n",
        "reading the data.\n"
      ]
    },
    {
      "cell_type": "code",
      "execution_count": 4,
      "metadata": {
        "collapsed": false
      },
      "outputs": [
        {
          "name": "stdout",
          "output_type": "stream",
          "text": [
            "All patch names: ['internalMesh', 'patch/movingWall', 'patch/fixedWalls', 'patch/frontAndBack']\n",
            "All patch status: {'internalMesh': True, 'patch/movingWall': True, 'patch/fixedWalls': True, 'patch/frontAndBack': True}\n"
          ]
        }
      ],
      "source": [
        "print(f\"All patch names: {reader.patch_array_names}\")\n",
        "print(f\"All patch status: {reader.all_patch_arrays_status}\")"
      ]
    },
    {
      "cell_type": "markdown",
      "metadata": {},
      "source": [
        "This data is represented as a `pyvista.MultiBlock`{.interpreted-text\n",
        "role=\"class\"} object. The internal mesh will be located in the top-level\n",
        "MultiBlock mesh.\n"
      ]
    },
    {
      "cell_type": "code",
      "execution_count": 5,
      "metadata": {
        "collapsed": false
      },
      "outputs": [
        {
          "name": "stdout",
          "output_type": "stream",
          "text": [
            "Mesh patches: ['internalMesh', 'boundary']\n"
          ]
        }
      ],
      "source": [
        "mesh = reader.read()\n",
        "print(f\"Mesh patches: {mesh.keys()}\")\n",
        "internal_mesh = mesh[\"internalMesh\"]  # or internal_mesh = mesh[0]"
      ]
    },
    {
      "cell_type": "markdown",
      "metadata": {},
      "source": [
        "In this case the internal mesh is a\n",
        "`pyvista.UnstructuredGrid`{.interpreted-text role=\"class\"}.\n"
      ]
    },
    {
      "cell_type": "code",
      "execution_count": 6,
      "metadata": {
        "collapsed": false
      },
      "outputs": [
        {
          "name": "stdout",
          "output_type": "stream",
          "text": [
            "UnstructuredGrid (0x7f2b0f2c6f80)\n",
            "  N Cells:    400\n",
            "  N Points:   882\n",
            "  X Bounds:   0.000e+00, 1.000e-01\n",
            "  Y Bounds:   0.000e+00, 1.000e-01\n",
            "  Z Bounds:   0.000e+00, 1.000e-02\n",
            "  N Arrays:   4\n"
          ]
        }
      ],
      "source": [
        "print(internal_mesh)"
      ]
    },
    {
      "cell_type": "markdown",
      "metadata": {},
      "source": [
        "Additional Patch meshes are nested inside another MultiBlock mesh. The\n",
        "name of the sub-level MultiBlock mesh depends on the vtk version.\n"
      ]
    },
    {
      "cell_type": "code",
      "execution_count": 7,
      "metadata": {
        "collapsed": false
      },
      "outputs": [
        {
          "name": "stdout",
          "output_type": "stream",
          "text": [
            "MultiBlock (0x7f2b7c4ad780)\n",
            "  N Blocks    3\n",
            "  X Bounds    0.000, 0.100\n",
            "  Y Bounds    0.000, 0.100\n",
            "  Z Bounds    0.000, 0.010\n",
            "Boundaries patches: ['movingWall', 'fixedWalls', 'frontAndBack']\n",
            "PolyData (0x7f2b0f2f0340)\n",
            "  N Cells:    20\n",
            "  N Points:   42\n",
            "  N Strips:   0\n",
            "  X Bounds:   0.000e+00, 1.000e-01\n",
            "  Y Bounds:   1.000e-01, 1.000e-01\n",
            "  Z Bounds:   0.000e+00, 1.000e-02\n",
            "  N Arrays:   4\n"
          ]
        }
      ],
      "source": [
        "boundaries = mesh[\"boundary\"]\n",
        "print(boundaries)\n",
        "print(f\"Boundaries patches: {boundaries.keys()}\")\n",
        "print(boundaries[\"movingWall\"])"
      ]
    },
    {
      "cell_type": "markdown",
      "metadata": {},
      "source": [
        "The default in OpenFOAMReader is to translate the existing cell data to\n",
        "point data. Therefore, the cell data arrays are duplicated in point\n",
        "data.\n"
      ]
    },
    {
      "cell_type": "code",
      "execution_count": 8,
      "metadata": {
        "collapsed": false
      },
      "outputs": [
        {
          "name": "stdout",
          "output_type": "stream",
          "text": [
            "Cell Data:\n",
            "pyvista DataSetAttributes\n",
            "Association     : CELL\n",
            "Active Scalars  : p\n",
            "Active Vectors  : U\n",
            "Active Texture  : None\n",
            "Active Normals  : None\n",
            "Contains arrays :\n",
            "    U                       float32    (400, 3)             VECTORS\n",
            "    p                       float32    (400,)               SCALARS\n",
            "\n",
            "Point Data:\n",
            "pyvista DataSetAttributes\n",
            "Association     : POINT\n",
            "Active Scalars  : p\n",
            "Active Vectors  : U\n",
            "Active Texture  : None\n",
            "Active Normals  : None\n",
            "Contains arrays :\n",
            "    U                       float32    (882, 3)             VECTORS\n",
            "    p                       float32    (882,)               SCALARS\n"
          ]
        }
      ],
      "source": [
        "print(\"Cell Data:\")\n",
        "print(internal_mesh.cell_data)\n",
        "print(\"\\nPoint Data:\")\n",
        "print(internal_mesh.point_data)"
      ]
    },
    {
      "cell_type": "markdown",
      "metadata": {},
      "source": [
        "This behavior can be turned off if only cell data is required.\n"
      ]
    },
    {
      "cell_type": "code",
      "execution_count": 9,
      "metadata": {
        "collapsed": false
      },
      "outputs": [
        {
          "name": "stdout",
          "output_type": "stream",
          "text": [
            "Cell Data:\n",
            "pyvista DataSetAttributes\n",
            "Association     : CELL\n",
            "Active Scalars  : p\n",
            "Active Vectors  : U\n",
            "Active Texture  : None\n",
            "Active Normals  : None\n",
            "Contains arrays :\n",
            "    U                       float32    (400, 3)             VECTORS\n",
            "    p                       float32    (400,)               SCALARS\n",
            "\n",
            "Point Data:\n",
            "pyvista DataSetAttributes\n",
            "Association     : POINT\n",
            "Active Scalars  : None\n",
            "Active Vectors  : None\n",
            "Active Texture  : None\n",
            "Active Normals  : None\n",
            "Contains arrays : None\n"
          ]
        }
      ],
      "source": [
        "reader.cell_to_point_creation = False\n",
        "internal_mesh = reader.read()[\"internalMesh\"]\n",
        "print(\"Cell Data:\")\n",
        "print(internal_mesh.cell_data)\n",
        "print(\"\\nPoint Data:\")\n",
        "print(internal_mesh.point_data)"
      ]
    },
    {
      "cell_type": "markdown",
      "metadata": {},
      "source": [
        "Now we will read in all the data at the last time point.\n"
      ]
    },
    {
      "cell_type": "code",
      "execution_count": 10,
      "metadata": {
        "collapsed": false
      },
      "outputs": [
        {
          "name": "stdout",
          "output_type": "stream",
          "text": [
            "Available Time Values: [0.0, 0.5, 1.0, 1.5, 2.0, 2.5]\n"
          ]
        }
      ],
      "source": [
        "print(f\"Available Time Values: {reader.time_values}\")\n",
        "reader.set_active_time_value(2.5)\n",
        "reader.cell_to_point_creation = True  # Need point data for streamlines\n",
        "mesh = reader.read()\n",
        "internal_mesh = mesh[\"internalMesh\"]\n",
        "boundaries = mesh[\"boundary\"]"
      ]
    },
    {
      "cell_type": "markdown",
      "metadata": {},
      "source": [
        "This OpenFOAM simulation is in 3D with only 1 cell in the z-direction.\n",
        "First, the solution is sliced in the center of the z-direction.\n",
        "`pyvista.DataSetFilters.streamlines_evenly_spaced_2D`{.interpreted-text\n",
        "role=\"func\"} requires the data to lie in the z=0 plane. So, after the\n",
        "domain sliced, it is translated to `z=0`.\n"
      ]
    },
    {
      "cell_type": "code",
      "execution_count": 11,
      "metadata": {
        "collapsed": false
      },
      "outputs": [],
      "source": [
        "def slice_z_center(mesh):\n",
        "    \"\"\"Slice mesh through center in z normal direction, move to z=0.\"\"\"\n",
        "    slice_mesh = mesh.slice(normal='z')\n",
        "    slice_mesh.translate((0, 0, -slice_mesh.center[-1]), inplace=True)\n",
        "    return slice_mesh\n",
        "\n",
        "\n",
        "slice_internal_mesh = slice_z_center(internal_mesh)\n",
        "slice_boundaries = pyvista.MultiBlock(\n",
        "    {key: slice_z_center(boundaries[key]) for key in boundaries.keys()},\n",
        ")"
      ]
    },
    {
      "cell_type": "markdown",
      "metadata": {},
      "source": [
        "Streamlines are generated using the point data \\\"U\\\".\n"
      ]
    },
    {
      "cell_type": "code",
      "execution_count": 12,
      "metadata": {
        "collapsed": false
      },
      "outputs": [],
      "source": [
        "# streamlines = slice_internal_mesh.streamlines_evenly_spaced_2D(\n",
        "#     vectors='U',\n",
        "#     start_position=(0.05, 0.05, 0),\n",
        "#     separating_distance=1,\n",
        "#     separating_distance_ratio=0.1,\n",
        "# )"
      ]
    },
    {
      "cell_type": "markdown",
      "metadata": {},
      "source": [
        "Plot streamlines colored by velocity magnitude. Additionally, the moving\n",
        "and fixed wall boundaries are plotted.\n"
      ]
    },
    {
      "cell_type": "code",
      "execution_count": 13,
      "metadata": {
        "collapsed": false
      },
      "outputs": [],
      "source": [
        "# plotter = pyvista.Plotter()\n",
        "# plotter.add_mesh(slice_boundaries[\"movingWall\"], color='red', line_width=3)\n",
        "# plotter.add_mesh(slice_boundaries[\"fixedWalls\"], color='black', line_width=3)\n",
        "# plotter.add_mesh(streamlines.tube(radius=0.0005), scalars=\"U\")\n",
        "# plotter.view_xy()\n",
        "# plotter.enable_parallel_projection()\n",
        "# plotter.show()"
      ]
    },
    {
      "cell_type": "code",
      "execution_count": 14,
      "metadata": {},
      "outputs": [
        {
          "name": "stdout",
          "output_type": "stream",
          "text": [
            "['U', 'p']\n",
            "['U', 'p']\n"
          ]
        }
      ],
      "source": [
        "print(internal_mesh.point_data.keys())  # Lists available point-based fields\n",
        "print(internal_mesh.cell_data.keys())   # Lists available cell-based fields\n"
      ]
    },
    {
      "cell_type": "code",
      "execution_count": 15,
      "metadata": {},
      "outputs": [
        {
          "data": {
            "text/plain": [
              "pyvista_ndarray([[ 2.53494e-04, -2.50378e-04,  0.00000e+00],\n",
              "                 [ 1.41338e-04,  1.11475e-04,  0.00000e+00],\n",
              "                 [-1.17699e-03,  5.64654e-04,  0.00000e+00],\n",
              "                 ...,\n",
              "                 [ 5.83952e-01, -7.26601e-02,  0.00000e+00],\n",
              "                 [ 4.15827e-01, -1.27868e-01,  0.00000e+00],\n",
              "                 [ 3.08819e-01, -1.49468e-01,  0.00000e+00]],\n",
              "                shape=(400, 3), dtype=float32)"
            ]
          },
          "execution_count": 15,
          "metadata": {},
          "output_type": "execute_result"
        }
      ],
      "source": [
        "cell_data = internal_mesh.cell_data[\"U\"]  # Example for cell_data\n",
        "cell_data"
      ]
    },
    {
      "cell_type": "code",
      "execution_count": 16,
      "metadata": {},
      "outputs": [
        {
          "name": "stdout",
          "output_type": "stream",
          "text": [
            "dict_keys([np.uint8(12)])\n"
          ]
        }
      ],
      "source": [
        "print(internal_mesh.cells_dict.keys())\n"
      ]
    },
    {
      "cell_type": "code",
      "execution_count": 17,
      "metadata": {},
      "outputs": [],
      "source": [
        "from dolfinx import mesh as dmesh\n",
        "import numpy as np\n",
        "from mpi4py import MPI\n",
        "\n",
        "# Extract points and connectivity\n",
        "points = internal_mesh.points\n",
        "cells = internal_mesh.cells_dict  # Dictionary mapping cell type to connectivity\n",
        "\n",
        "# Assume tetrahedral mesh (modify based on actual mesh type)\n",
        "hex_cells = cells.get(12)  # 12 corresponds to VTK_HEXAHEDRON\n",
        "if hex_cells is None:\n",
        "    raise ValueError(\"No hexahedron cells found in the mesh.\")\n",
        "\n",
        "## Connectivity of the mesh (topology) - The second dimension indicates the type of cell used\n",
        "args_conn = np.argsort(hex_cells, axis=1)\n",
        "rows = np.arange(hex_cells.shape[0])[:, None]\n",
        "connectivity = hex_cells[rows, args_conn]\n",
        "\n",
        "import ufl\n",
        "# Define mesh element\n",
        "shape = \"hexahedron\"\n",
        "degree = 1\n",
        "cell = ufl.Cell(shape)\n",
        "\n",
        "import basix\n",
        "v_cg = basix.ufl.element(\n",
        "    \"Lagrange\", cell.cellname(), 1, shape=(3,)\n",
        ")\n",
        "mesh_ufl = ufl.Mesh(v_cg)\n"
      ]
    },
    {
      "cell_type": "code",
      "execution_count": 18,
      "metadata": {},
      "outputs": [
        {
          "name": "stdout",
          "output_type": "stream",
          "text": [
            "(400, 8)\n"
          ]
        }
      ],
      "source": [
        "print(hex_cells.shape)"
      ]
    },
    {
      "cell_type": "code",
      "execution_count": 19,
      "metadata": {},
      "outputs": [
        {
          "data": {
            "text/plain": [
              "400"
            ]
          },
          "execution_count": 19,
          "metadata": {},
          "output_type": "execute_result"
        }
      ],
      "source": [
        "# Create Dolfinx Mesh\n",
        "domain = dmesh.create_mesh(MPI.COMM_WORLD, connectivity, points, mesh_ufl)\n",
        "domain.topology.index_map(domain.topology.dim).size_global"
      ]
    },
    {
      "cell_type": "code",
      "execution_count": 20,
      "metadata": {},
      "outputs": [],
      "source": [
        "import dolfinx\n",
        "v_dg = basix.ufl.element(\n",
        "    \"DG\", cell.cellname(), 0, shape=(3,)\n",
        ")\n",
        "V = dolfinx.fem.functionspace(domain, v_dg)\n",
        "u = dolfinx.fem.Function(V)"
      ]
    },
    {
      "cell_type": "code",
      "execution_count": 21,
      "metadata": {},
      "outputs": [
        {
          "name": "stdout",
          "output_type": "stream",
          "text": [
            "[  0   1  20   2  21  40   3  22  41  60   4  23  42  61  80   5  24  43\n",
            "  62  81 100   6  25  44  63  82 101 120   7  26  45  64  83 102 121 140\n",
            "   8  27  46  65  84 103 122 141 160   9  28  47  66  85 104 123 142 161\n",
            " 180  10  29  48  67  86 105 124 143 162 181 200  11  30  49  68  87 106\n",
            " 125 144 163 182 201 220  12  31  50  69  88 107 126 145 164 183 202 221\n",
            " 240  13  32  51  70  89 108 127 146 165 184 203 222 241 260  14  33  52\n",
            "  71  90 109 128 147 166 185 204 223 242 261 280  15  34  53  72  91 110\n",
            " 129 148 167 186 205 224 243 262 281 300  16  35  54  73  92 111 130 149\n",
            " 168 187 206 225 244 263 282 301 320  17  36  55  74  93 112 131 150 169\n",
            " 188 207 226 245 264 283 302 321 340  18  37  56  75  94 113 132 151 170\n",
            " 189 208 227 246 265 284 303 322 341 360  19  38  57  76  95 114 133 152\n",
            " 171 190 209 228 247 266 285 304 323 342 361 380  39  58  77  96 115 134\n",
            " 153 172 191 210 229 248 267 286 305 324 343 362 381  59  78  97 116 135\n",
            " 154 173 192 211 230 249 268 287 306 325 344 363 382  79  98 117 136 155\n",
            " 174 193 212 231 250 269 288 307 326 345 364 383  99 118 137 156 175 194\n",
            " 213 232 251 270 289 308 327 346 365 384 119 138 157 176 195 214 233 252\n",
            " 271 290 309 328 347 366 385 139 158 177 196 215 234 253 272 291 310 329\n",
            " 348 367 386 159 178 197 216 235 254 273 292 311 330 349 368 387 179 198\n",
            " 217 236 255 274 293 312 331 350 369 388 199 218 237 256 275 294 313 332\n",
            " 351 370 389 219 238 257 276 295 314 333 352 371 390 239 258 277 296 315\n",
            " 334 353 372 391 259 278 297 316 335 354 373 392 279 298 317 336 355 374\n",
            " 393 299 318 337 356 375 394 319 338 357 376 395 339 358 377 396 359 378\n",
            " 397 379 398 399]\n",
            "(400,)\n"
          ]
        }
      ],
      "source": [
        "u.x.array[:] = internal_mesh.cell_data[\"U\"][domain.topology.original_cell_index].flatten()\n",
        "\n",
        "print(domain.topology.original_cell_index)\n",
        "print(domain.topology.original_cell_index.shape)"
      ]
    },
    {
      "cell_type": "code",
      "execution_count": 22,
      "metadata": {},
      "outputs": [
        {
          "data": {
            "text/plain": [
              "pyvista_ndarray([[0. , 0. , 0. ],\n",
              "                 [0. , 0. , 0. ],\n",
              "                 [0. , 0. , 0. ],\n",
              "                 ...,\n",
              "                 [1. , 0. , 0. ],\n",
              "                 [1. , 0. , 0. ],\n",
              "                 [0.5, 0. , 0. ]], shape=(882, 3), dtype=float32)"
            ]
          },
          "execution_count": 22,
          "metadata": {},
          "output_type": "execute_result"
        }
      ],
      "source": [
        "internal_mesh.point_data[\"U\"]"
      ]
    },
    {
      "cell_type": "code",
      "execution_count": 24,
      "metadata": {},
      "outputs": [
        {
          "data": {
            "text/plain": [
              "array([[  0,   1,  21, ..., 442, 462, 463],\n",
              "       [  1,   2,  22, ..., 443, 463, 464],\n",
              "       [ 21,  22,  42, ..., 463, 483, 484],\n",
              "       ...,\n",
              "       [397, 398, 418, ..., 839, 859, 860],\n",
              "       [417, 418, 438, ..., 859, 879, 880],\n",
              "       [418, 419, 439, ..., 860, 880, 881]], shape=(400, 8))"
            ]
          },
          "execution_count": 24,
          "metadata": {},
          "output_type": "execute_result"
        }
      ],
      "source": [
        "connectivity[domain.topology.original_cell_index]"
      ]
    },
    {
      "cell_type": "code",
      "execution_count": 34,
      "metadata": {},
      "outputs": [
        {
          "data": {
            "text/plain": [
              "<AdjacencyList> with 400 nodes\n",
              "  0: [0 1 2 3 4 5 6 7 ]\n",
              "  1: [1 8 3 9 5 10 7 11 ]\n",
              "  2: [2 3 12 13 6 7 14 15 ]\n",
              "  3: [8 16 9 17 10 18 11 19 ]\n",
              "  4: [3 9 13 20 7 11 15 21 ]\n",
              "  5: [12 13 22 23 14 15 24 25 ]\n",
              "  6: [16 26 17 27 18 28 19 29 ]\n",
              "  7: [9 17 20 30 11 19 21 31 ]\n",
              "  8: [13 20 23 32 15 21 25 33 ]\n",
              "  9: [22 23 34 35 24 25 36 37 ]\n",
              "  10: [26 38 27 39 28 40 29 41 ]\n",
              "  11: [17 27 30 42 19 29 31 43 ]\n",
              "  12: [20 30 32 44 21 31 33 45 ]\n",
              "  13: [23 32 35 46 25 33 37 47 ]\n",
              "  14: [34 35 48 49 36 37 50 51 ]\n",
              "  15: [38 52 39 53 40 54 41 55 ]\n",
              "  16: [27 39 42 56 29 41 43 57 ]\n",
              "  17: [30 42 44 58 31 43 45 59 ]\n",
              "  18: [32 44 46 60 33 45 47 61 ]\n",
              "  19: [35 46 49 62 37 47 51 63 ]\n",
              "  20: [48 49 64 65 50 51 66 67 ]\n",
              "  21: [52 68 53 69 54 70 55 71 ]\n",
              "  22: [39 53 56 72 41 55 57 73 ]\n",
              "  23: [42 56 58 74 43 57 59 75 ]\n",
              "  24: [44 58 60 76 45 59 61 77 ]\n",
              "  25: [46 60 62 78 47 61 63 79 ]\n",
              "  26: [49 62 65 80 51 63 67 81 ]\n",
              "  27: [64 65 82 83 66 67 84 85 ]\n",
              "  28: [68 86 69 87 70 88 71 89 ]\n",
              "  29: [53 69 72 90 55 71 73 91 ]\n",
              "  30: [56 72 74 92 57 73 75 93 ]\n",
              "  31: [58 74 76 94 59 75 77 95 ]\n",
              "  32: [60 76 78 96 61 77 79 97 ]\n",
              "  33: [62 78 80 98 63 79 81 99 ]\n",
              "  34: [65 80 83 100 67 81 85 101 ]\n",
              "  35: [82 83 102 103 84 85 104 105 ]\n",
              "  36: [86 106 87 107 88 108 89 109 ]\n",
              "  37: [69 87 90 110 71 89 91 111 ]\n",
              "  38: [72 90 92 112 73 91 93 113 ]\n",
              "  39: [74 92 94 114 75 93 95 115 ]\n",
              "  40: [76 94 96 116 77 95 97 117 ]\n",
              "  41: [78 96 98 118 79 97 99 119 ]\n",
              "  42: [80 98 100 120 81 99 101 121 ]\n",
              "  43: [83 100 103 122 85 101 105 123 ]\n",
              "  44: [102 103 124 125 104 105 126 127 ]\n",
              "  45: [106 128 107 129 108 130 109 131 ]\n",
              "  46: [87 107 110 132 89 109 111 133 ]\n",
              "  47: [90 110 112 134 91 111 113 135 ]\n",
              "  48: [92 112 114 136 93 113 115 137 ]\n",
              "  49: [94 114 116 138 95 115 117 139 ]\n",
              "  50: [96 116 118 140 97 117 119 141 ]\n",
              "  51: [98 118 120 142 99 119 121 143 ]\n",
              "  52: [100 120 122 144 101 121 123 145 ]\n",
              "  53: [103 122 125 146 105 123 127 147 ]\n",
              "  54: [124 125 148 149 126 127 150 151 ]\n",
              "  55: [128 152 129 153 130 154 131 155 ]\n",
              "  56: [107 129 132 156 109 131 133 157 ]\n",
              "  57: [110 132 134 158 111 133 135 159 ]\n",
              "  58: [112 134 136 160 113 135 137 161 ]\n",
              "  59: [114 136 138 162 115 137 139 163 ]\n",
              "  60: [116 138 140 164 117 139 141 165 ]\n",
              "  61: [118 140 142 166 119 141 143 167 ]\n",
              "  62: [120 142 144 168 121 143 145 169 ]\n",
              "  63: [122 144 146 170 123 145 147 171 ]\n",
              "  64: [125 146 149 172 127 147 151 173 ]\n",
              "  65: [148 149 174 175 150 151 176 177 ]\n",
              "  66: [152 178 153 179 154 180 155 181 ]\n",
              "  67: [129 153 156 182 131 155 157 183 ]\n",
              "  68: [132 156 158 184 133 157 159 185 ]\n",
              "  69: [134 158 160 186 135 159 161 187 ]\n",
              "  70: [136 160 162 188 137 161 163 189 ]\n",
              "  71: [138 162 164 190 139 163 165 191 ]\n",
              "  72: [140 164 166 192 141 165 167 193 ]\n",
              "  73: [142 166 168 194 143 167 169 195 ]\n",
              "  74: [144 168 170 196 145 169 171 197 ]\n",
              "  75: [146 170 172 198 147 171 173 199 ]\n",
              "  76: [149 172 175 200 151 173 177 201 ]\n",
              "  77: [174 175 202 203 176 177 204 205 ]\n",
              "  78: [178 206 179 207 180 208 181 209 ]\n",
              "  79: [153 179 182 210 155 181 183 211 ]\n",
              "  80: [156 182 184 212 157 183 185 213 ]\n",
              "  81: [158 184 186 214 159 185 187 215 ]\n",
              "  82: [160 186 188 216 161 187 189 217 ]\n",
              "  83: [162 188 190 218 163 189 191 219 ]\n",
              "  84: [164 190 192 220 165 191 193 221 ]\n",
              "  85: [166 192 194 222 167 193 195 223 ]\n",
              "  86: [168 194 196 224 169 195 197 225 ]\n",
              "  87: [170 196 198 226 171 197 199 227 ]\n",
              "  88: [172 198 200 228 173 199 201 229 ]\n",
              "  89: [175 200 203 230 177 201 205 231 ]\n",
              "  90: [202 203 232 233 204 205 234 235 ]\n",
              "  91: [206 236 207 237 208 238 209 239 ]\n",
              "  92: [179 207 210 240 181 209 211 241 ]\n",
              "  93: [182 210 212 242 183 211 213 243 ]\n",
              "  94: [184 212 214 244 185 213 215 245 ]\n",
              "  95: [186 214 216 246 187 215 217 247 ]\n",
              "  96: [188 216 218 248 189 217 219 249 ]\n",
              "  97: [190 218 220 250 191 219 221 251 ]\n",
              "  98: [192 220 222 252 193 221 223 253 ]\n",
              "  99: [194 222 224 254 195 223 225 255 ]\n",
              "  100: [196 224 226 256 197 225 227 257 ]\n",
              "  101: [198 226 228 258 199 227 229 259 ]\n",
              "  102: [200 228 230 260 201 229 231 261 ]\n",
              "  103: [203 230 233 262 205 231 235 263 ]\n",
              "  104: [232 233 264 265 234 235 266 267 ]\n",
              "  105: [236 268 237 269 238 270 239 271 ]\n",
              "  106: [207 237 240 272 209 239 241 273 ]\n",
              "  107: [210 240 242 274 211 241 243 275 ]\n",
              "  108: [212 242 244 276 213 243 245 277 ]\n",
              "  109: [214 244 246 278 215 245 247 279 ]\n",
              "  110: [216 246 248 280 217 247 249 281 ]\n",
              "  111: [218 248 250 282 219 249 251 283 ]\n",
              "  112: [220 250 252 284 221 251 253 285 ]\n",
              "  113: [222 252 254 286 223 253 255 287 ]\n",
              "  114: [224 254 256 288 225 255 257 289 ]\n",
              "  115: [226 256 258 290 227 257 259 291 ]\n",
              "  116: [228 258 260 292 229 259 261 293 ]\n",
              "  117: [230 260 262 294 231 261 263 295 ]\n",
              "  118: [233 262 265 296 235 263 267 297 ]\n",
              "  119: [264 265 298 299 266 267 300 301 ]\n",
              "  120: [268 302 269 303 270 304 271 305 ]\n",
              "  121: [237 269 272 306 239 271 273 307 ]\n",
              "  122: [240 272 274 308 241 273 275 309 ]\n",
              "  123: [242 274 276 310 243 275 277 311 ]\n",
              "  124: [244 276 278 312 245 277 279 313 ]\n",
              "  125: [246 278 280 314 247 279 281 315 ]\n",
              "  126: [248 280 282 316 249 281 283 317 ]\n",
              "  127: [250 282 284 318 251 283 285 319 ]\n",
              "  128: [252 284 286 320 253 285 287 321 ]\n",
              "  129: [254 286 288 322 255 287 289 323 ]\n",
              "  130: [256 288 290 324 257 289 291 325 ]\n",
              "  131: [258 290 292 326 259 291 293 327 ]\n",
              "  132: [260 292 294 328 261 293 295 329 ]\n",
              "  133: [262 294 296 330 263 295 297 331 ]\n",
              "  134: [265 296 299 332 267 297 301 333 ]\n",
              "  135: [298 299 334 335 300 301 336 337 ]\n",
              "  136: [302 338 303 339 304 340 305 341 ]\n",
              "  137: [269 303 306 342 271 305 307 343 ]\n",
              "  138: [272 306 308 344 273 307 309 345 ]\n",
              "  139: [274 308 310 346 275 309 311 347 ]\n",
              "  140: [276 310 312 348 277 311 313 349 ]\n",
              "  141: [278 312 314 350 279 313 315 351 ]\n",
              "  142: [280 314 316 352 281 315 317 353 ]\n",
              "  143: [282 316 318 354 283 317 319 355 ]\n",
              "  144: [284 318 320 356 285 319 321 357 ]\n",
              "  145: [286 320 322 358 287 321 323 359 ]\n",
              "  146: [288 322 324 360 289 323 325 361 ]\n",
              "  147: [290 324 326 362 291 325 327 363 ]\n",
              "  148: [292 326 328 364 293 327 329 365 ]\n",
              "  149: [294 328 330 366 295 329 331 367 ]\n",
              "  150: [296 330 332 368 297 331 333 369 ]\n",
              "  151: [299 332 335 370 301 333 337 371 ]\n",
              "  152: [334 335 372 373 336 337 374 375 ]\n",
              "  153: [338 376 339 377 340 378 341 379 ]\n",
              "  154: [303 339 342 380 305 341 343 381 ]\n",
              "  155: [306 342 344 382 307 343 345 383 ]\n",
              "  156: [308 344 346 384 309 345 347 385 ]\n",
              "  157: [310 346 348 386 311 347 349 387 ]\n",
              "  158: [312 348 350 388 313 349 351 389 ]\n",
              "  159: [314 350 352 390 315 351 353 391 ]\n",
              "  160: [316 352 354 392 317 353 355 393 ]\n",
              "  161: [318 354 356 394 319 355 357 395 ]\n",
              "  162: [320 356 358 396 321 357 359 397 ]\n",
              "  163: [322 358 360 398 323 359 361 399 ]\n",
              "  164: [324 360 362 400 325 361 363 401 ]\n",
              "  165: [326 362 364 402 327 363 365 403 ]\n",
              "  166: [328 364 366 404 329 365 367 405 ]\n",
              "  167: [330 366 368 406 331 367 369 407 ]\n",
              "  168: [332 368 370 408 333 369 371 409 ]\n",
              "  169: [335 370 373 410 337 371 375 411 ]\n",
              "  170: [372 373 412 413 374 375 414 415 ]\n",
              "  171: [376 416 377 417 378 418 379 419 ]\n",
              "  172: [339 377 380 420 341 379 381 421 ]\n",
              "  173: [342 380 382 422 343 381 383 423 ]\n",
              "  174: [344 382 384 424 345 383 385 425 ]\n",
              "  175: [346 384 386 426 347 385 387 427 ]\n",
              "  176: [348 386 388 428 349 387 389 429 ]\n",
              "  177: [350 388 390 430 351 389 391 431 ]\n",
              "  178: [352 390 392 432 353 391 393 433 ]\n",
              "  179: [354 392 394 434 355 393 395 435 ]\n",
              "  180: [356 394 396 436 357 395 397 437 ]\n",
              "  181: [358 396 398 438 359 397 399 439 ]\n",
              "  182: [360 398 400 440 361 399 401 441 ]\n",
              "  183: [362 400 402 442 363 401 403 443 ]\n",
              "  184: [364 402 404 444 365 403 405 445 ]\n",
              "  185: [366 404 406 446 367 405 407 447 ]\n",
              "  186: [368 406 408 448 369 407 409 449 ]\n",
              "  187: [370 408 410 450 371 409 411 451 ]\n",
              "  188: [373 410 413 452 375 411 415 453 ]\n",
              "  189: [412 413 454 455 414 415 456 457 ]\n",
              "  190: [416 458 417 459 418 460 419 461 ]\n",
              "  191: [377 417 420 462 379 419 421 463 ]\n",
              "  192: [380 420 422 464 381 421 423 465 ]\n",
              "  193: [382 422 424 466 383 423 425 467 ]\n",
              "  194: [384 424 426 468 385 425 427 469 ]\n",
              "  195: [386 426 428 470 387 427 429 471 ]\n",
              "  196: [388 428 430 472 389 429 431 473 ]\n",
              "  197: [390 430 432 474 391 431 433 475 ]\n",
              "  198: [392 432 434 476 393 433 435 477 ]\n",
              "  199: [394 434 436 478 395 435 437 479 ]\n",
              "  200: [396 436 438 480 397 437 439 481 ]\n",
              "  201: [398 438 440 482 399 439 441 483 ]\n",
              "  202: [400 440 442 484 401 441 443 485 ]\n",
              "  203: [402 442 444 486 403 443 445 487 ]\n",
              "  204: [404 444 446 488 405 445 447 489 ]\n",
              "  205: [406 446 448 490 407 447 449 491 ]\n",
              "  206: [408 448 450 492 409 449 451 493 ]\n",
              "  207: [410 450 452 494 411 451 453 495 ]\n",
              "  208: [413 452 455 496 415 453 457 497 ]\n",
              "  209: [454 455 498 499 456 457 500 501 ]\n",
              "  210: [417 459 462 502 419 461 463 503 ]\n",
              "  211: [420 462 464 504 421 463 465 505 ]\n",
              "  212: [422 464 466 506 423 465 467 507 ]\n",
              "  213: [424 466 468 508 425 467 469 509 ]\n",
              "  214: [426 468 470 510 427 469 471 511 ]\n",
              "  215: [428 470 472 512 429 471 473 513 ]\n",
              "  216: [430 472 474 514 431 473 475 515 ]\n",
              "  217: [432 474 476 516 433 475 477 517 ]\n",
              "  218: [434 476 478 518 435 477 479 519 ]\n",
              "  219: [436 478 480 520 437 479 481 521 ]\n",
              "  220: [438 480 482 522 439 481 483 523 ]\n",
              "  221: [440 482 484 524 441 483 485 525 ]\n",
              "  222: [442 484 486 526 443 485 487 527 ]\n",
              "  223: [444 486 488 528 445 487 489 529 ]\n",
              "  224: [446 488 490 530 447 489 491 531 ]\n",
              "  225: [448 490 492 532 449 491 493 533 ]\n",
              "  226: [450 492 494 534 451 493 495 535 ]\n",
              "  227: [452 494 496 536 453 495 497 537 ]\n",
              "  228: [455 496 499 538 457 497 501 539 ]\n",
              "  229: [462 502 504 540 463 503 505 541 ]\n",
              "  230: [464 504 506 542 465 505 507 543 ]\n",
              "  231: [466 506 508 544 467 507 509 545 ]\n",
              "  232: [468 508 510 546 469 509 511 547 ]\n",
              "  233: [470 510 512 548 471 511 513 549 ]\n",
              "  234: [472 512 514 550 473 513 515 551 ]\n",
              "  235: [474 514 516 552 475 515 517 553 ]\n",
              "  236: [476 516 518 554 477 517 519 555 ]\n",
              "  237: [478 518 520 556 479 519 521 557 ]\n",
              "  238: [480 520 522 558 481 521 523 559 ]\n",
              "  239: [482 522 524 560 483 523 525 561 ]\n",
              "  240: [484 524 526 562 485 525 527 563 ]\n",
              "  241: [486 526 528 564 487 527 529 565 ]\n",
              "  242: [488 528 530 566 489 529 531 567 ]\n",
              "  243: [490 530 532 568 491 531 533 569 ]\n",
              "  244: [492 532 534 570 493 533 535 571 ]\n",
              "  245: [494 534 536 572 495 535 537 573 ]\n",
              "  246: [496 536 538 574 497 537 539 575 ]\n",
              "  247: [504 540 542 576 505 541 543 577 ]\n",
              "  248: [506 542 544 578 507 543 545 579 ]\n",
              "  249: [508 544 546 580 509 545 547 581 ]\n",
              "  250: [510 546 548 582 511 547 549 583 ]\n",
              "  251: [512 548 550 584 513 549 551 585 ]\n",
              "  252: [514 550 552 586 515 551 553 587 ]\n",
              "  253: [516 552 554 588 517 553 555 589 ]\n",
              "  254: [518 554 556 590 519 555 557 591 ]\n",
              "  255: [520 556 558 592 521 557 559 593 ]\n",
              "  256: [522 558 560 594 523 559 561 595 ]\n",
              "  257: [524 560 562 596 525 561 563 597 ]\n",
              "  258: [526 562 564 598 527 563 565 599 ]\n",
              "  259: [528 564 566 600 529 565 567 601 ]\n",
              "  260: [530 566 568 602 531 567 569 603 ]\n",
              "  261: [532 568 570 604 533 569 571 605 ]\n",
              "  262: [534 570 572 606 535 571 573 607 ]\n",
              "  263: [536 572 574 608 537 573 575 609 ]\n",
              "  264: [542 576 578 610 543 577 579 611 ]\n",
              "  265: [544 578 580 612 545 579 581 613 ]\n",
              "  266: [546 580 582 614 547 581 583 615 ]\n",
              "  267: [548 582 584 616 549 583 585 617 ]\n",
              "  268: [550 584 586 618 551 585 587 619 ]\n",
              "  269: [552 586 588 620 553 587 589 621 ]\n",
              "  270: [554 588 590 622 555 589 591 623 ]\n",
              "  271: [556 590 592 624 557 591 593 625 ]\n",
              "  272: [558 592 594 626 559 593 595 627 ]\n",
              "  273: [560 594 596 628 561 595 597 629 ]\n",
              "  274: [562 596 598 630 563 597 599 631 ]\n",
              "  275: [564 598 600 632 565 599 601 633 ]\n",
              "  276: [566 600 602 634 567 601 603 635 ]\n",
              "  277: [568 602 604 636 569 603 605 637 ]\n",
              "  278: [570 604 606 638 571 605 607 639 ]\n",
              "  279: [572 606 608 640 573 607 609 641 ]\n",
              "  280: [578 610 612 642 579 611 613 643 ]\n",
              "  281: [580 612 614 644 581 613 615 645 ]\n",
              "  282: [582 614 616 646 583 615 617 647 ]\n",
              "  283: [584 616 618 648 585 617 619 649 ]\n",
              "  284: [586 618 620 650 587 619 621 651 ]\n",
              "  285: [588 620 622 652 589 621 623 653 ]\n",
              "  286: [590 622 624 654 591 623 625 655 ]\n",
              "  287: [592 624 626 656 593 625 627 657 ]\n",
              "  288: [594 626 628 658 595 627 629 659 ]\n",
              "  289: [596 628 630 660 597 629 631 661 ]\n",
              "  290: [598 630 632 662 599 631 633 663 ]\n",
              "  291: [600 632 634 664 601 633 635 665 ]\n",
              "  292: [602 634 636 666 603 635 637 667 ]\n",
              "  293: [604 636 638 668 605 637 639 669 ]\n",
              "  294: [606 638 640 670 607 639 641 671 ]\n",
              "  295: [612 642 644 672 613 643 645 673 ]\n",
              "  296: [614 644 646 674 615 645 647 675 ]\n",
              "  297: [616 646 648 676 617 647 649 677 ]\n",
              "  298: [618 648 650 678 619 649 651 679 ]\n",
              "  299: [620 650 652 680 621 651 653 681 ]\n",
              "  300: [622 652 654 682 623 653 655 683 ]\n",
              "  301: [624 654 656 684 625 655 657 685 ]\n",
              "  302: [626 656 658 686 627 657 659 687 ]\n",
              "  303: [628 658 660 688 629 659 661 689 ]\n",
              "  304: [630 660 662 690 631 661 663 691 ]\n",
              "  305: [632 662 664 692 633 663 665 693 ]\n",
              "  306: [634 664 666 694 635 665 667 695 ]\n",
              "  307: [636 666 668 696 637 667 669 697 ]\n",
              "  308: [638 668 670 698 639 669 671 699 ]\n",
              "  309: [644 672 674 700 645 673 675 701 ]\n",
              "  310: [646 674 676 702 647 675 677 703 ]\n",
              "  311: [648 676 678 704 649 677 679 705 ]\n",
              "  312: [650 678 680 706 651 679 681 707 ]\n",
              "  313: [652 680 682 708 653 681 683 709 ]\n",
              "  314: [654 682 684 710 655 683 685 711 ]\n",
              "  315: [656 684 686 712 657 685 687 713 ]\n",
              "  316: [658 686 688 714 659 687 689 715 ]\n",
              "  317: [660 688 690 716 661 689 691 717 ]\n",
              "  318: [662 690 692 718 663 691 693 719 ]\n",
              "  319: [664 692 694 720 665 693 695 721 ]\n",
              "  320: [666 694 696 722 667 695 697 723 ]\n",
              "  321: [668 696 698 724 669 697 699 725 ]\n",
              "  322: [674 700 702 726 675 701 703 727 ]\n",
              "  323: [676 702 704 728 677 703 705 729 ]\n",
              "  324: [678 704 706 730 679 705 707 731 ]\n",
              "  325: [680 706 708 732 681 707 709 733 ]\n",
              "  326: [682 708 710 734 683 709 711 735 ]\n",
              "  327: [684 710 712 736 685 711 713 737 ]\n",
              "  328: [686 712 714 738 687 713 715 739 ]\n",
              "  329: [688 714 716 740 689 715 717 741 ]\n",
              "  330: [690 716 718 742 691 717 719 743 ]\n",
              "  331: [692 718 720 744 693 719 721 745 ]\n",
              "  332: [694 720 722 746 695 721 723 747 ]\n",
              "  333: [696 722 724 748 697 723 725 749 ]\n",
              "  334: [702 726 728 750 703 727 729 751 ]\n",
              "  335: [704 728 730 752 705 729 731 753 ]\n",
              "  336: [706 730 732 754 707 731 733 755 ]\n",
              "  337: [708 732 734 756 709 733 735 757 ]\n",
              "  338: [710 734 736 758 711 735 737 759 ]\n",
              "  339: [712 736 738 760 713 737 739 761 ]\n",
              "  340: [714 738 740 762 715 739 741 763 ]\n",
              "  341: [716 740 742 764 717 741 743 765 ]\n",
              "  342: [718 742 744 766 719 743 745 767 ]\n",
              "  343: [720 744 746 768 721 745 747 769 ]\n",
              "  344: [722 746 748 770 723 747 749 771 ]\n",
              "  345: [728 750 752 772 729 751 753 773 ]\n",
              "  346: [730 752 754 774 731 753 755 775 ]\n",
              "  347: [732 754 756 776 733 755 757 777 ]\n",
              "  348: [734 756 758 778 735 757 759 779 ]\n",
              "  349: [736 758 760 780 737 759 761 781 ]\n",
              "  350: [738 760 762 782 739 761 763 783 ]\n",
              "  351: [740 762 764 784 741 763 765 785 ]\n",
              "  352: [742 764 766 786 743 765 767 787 ]\n",
              "  353: [744 766 768 788 745 767 769 789 ]\n",
              "  354: [746 768 770 790 747 769 771 791 ]\n",
              "  355: [752 772 774 792 753 773 775 793 ]\n",
              "  356: [754 774 776 794 755 775 777 795 ]\n",
              "  357: [756 776 778 796 757 777 779 797 ]\n",
              "  358: [758 778 780 798 759 779 781 799 ]\n",
              "  359: [760 780 782 800 761 781 783 801 ]\n",
              "  360: [762 782 784 802 763 783 785 803 ]\n",
              "  361: [764 784 786 804 765 785 787 805 ]\n",
              "  362: [766 786 788 806 767 787 789 807 ]\n",
              "  363: [768 788 790 808 769 789 791 809 ]\n",
              "  364: [774 792 794 810 775 793 795 811 ]\n",
              "  365: [776 794 796 812 777 795 797 813 ]\n",
              "  366: [778 796 798 814 779 797 799 815 ]\n",
              "  367: [780 798 800 816 781 799 801 817 ]\n",
              "  368: [782 800 802 818 783 801 803 819 ]\n",
              "  369: [784 802 804 820 785 803 805 821 ]\n",
              "  370: [786 804 806 822 787 805 807 823 ]\n",
              "  371: [788 806 808 824 789 807 809 825 ]\n",
              "  372: [794 810 812 826 795 811 813 827 ]\n",
              "  373: [796 812 814 828 797 813 815 829 ]\n",
              "  374: [798 814 816 830 799 815 817 831 ]\n",
              "  375: [800 816 818 832 801 817 819 833 ]\n",
              "  376: [802 818 820 834 803 819 821 835 ]\n",
              "  377: [804 820 822 836 805 821 823 837 ]\n",
              "  378: [806 822 824 838 807 823 825 839 ]\n",
              "  379: [812 826 828 840 813 827 829 841 ]\n",
              "  380: [814 828 830 842 815 829 831 843 ]\n",
              "  381: [816 830 832 844 817 831 833 845 ]\n",
              "  382: [818 832 834 846 819 833 835 847 ]\n",
              "  383: [820 834 836 848 821 835 837 849 ]\n",
              "  384: [822 836 838 850 823 837 839 851 ]\n",
              "  385: [828 840 842 852 829 841 843 853 ]\n",
              "  386: [830 842 844 854 831 843 845 855 ]\n",
              "  387: [832 844 846 856 833 845 847 857 ]\n",
              "  388: [834 846 848 858 835 847 849 859 ]\n",
              "  389: [836 848 850 860 837 849 851 861 ]\n",
              "  390: [842 852 854 862 843 853 855 863 ]\n",
              "  391: [844 854 856 864 845 855 857 865 ]\n",
              "  392: [846 856 858 866 847 857 859 867 ]\n",
              "  393: [848 858 860 868 849 859 861 869 ]\n",
              "  394: [854 862 864 870 855 863 865 871 ]\n",
              "  395: [856 864 866 872 857 865 867 873 ]\n",
              "  396: [858 866 868 874 859 867 869 875 ]\n",
              "  397: [864 870 872 876 865 871 873 877 ]\n",
              "  398: [866 872 874 878 867 873 875 879 ]\n",
              "  399: [872 876 878 880 873 877 879 881 ]"
            ]
          },
          "execution_count": 34,
          "metadata": {},
          "output_type": "execute_result"
        }
      ],
      "source": [
        "c_to_v = domain.topology.connectivity(domain.topology.dim, 0)\n",
        "c_to_v"
      ]
    },
    {
      "cell_type": "code",
      "execution_count": 25,
      "metadata": {},
      "outputs": [
        {
          "data": {
            "text/plain": [
              "pyvista_ndarray([[0. , 0. , 0. ],\n",
              "                 [0. , 0. , 0. ],\n",
              "                 [0. , 0. , 0. ],\n",
              "                 ...,\n",
              "                 [1. , 0. , 0. ],\n",
              "                 [1. , 0. , 0. ],\n",
              "                 [0.5, 0. , 0. ]], shape=(882, 3), dtype=float32)"
            ]
          },
          "execution_count": 25,
          "metadata": {},
          "output_type": "execute_result"
        }
      ],
      "source": [
        "internal_mesh.point_data[\"U\"]"
      ]
    },
    {
      "cell_type": "code",
      "execution_count": 41,
      "metadata": {},
      "outputs": [
        {
          "data": {
            "text/plain": [
              "400"
            ]
          },
          "execution_count": 41,
          "metadata": {},
          "output_type": "execute_result"
        }
      ],
      "source": [
        "num_cells = domain.topology.index_map(\n",
        "    domain.topology.dim).size_local + domain.topology.index_map(\n",
        "    domain.topology.dim).num_ghosts\n",
        "num_cells"
      ]
    },
    {
      "cell_type": "code",
      "execution_count": 42,
      "metadata": {},
      "outputs": [],
      "source": [
        "v_cg = basix.ufl.element(\n",
        "    \"CG\", cell.cellname(), 1, shape=(3,)\n",
        ")\n",
        "V = dolfinx.fem.functionspace(domain, v_cg)\n",
        "u_alt = dolfinx.fem.Function(V)\n",
        "\n",
        "num_vertices = domain.topology.index_map(\n",
        "    0).size_local + domain.topology.index_map(0).num_ghosts\n"
      ]
    },
    {
      "cell_type": "code",
      "execution_count": 47,
      "metadata": {},
      "outputs": [
        {
          "data": {
            "text/plain": [
              "(2646,)"
            ]
          },
          "execution_count": 47,
          "metadata": {},
          "output_type": "execute_result"
        }
      ],
      "source": [
        "vertex_map = np.empty(num_vertices, dtype=np.int32)\n",
        "\n",
        "for cell in range(num_cells):\n",
        "    vertices = c_to_v.links(cell)\n",
        "    for i, vertex in enumerate(vertices):\n",
        "        vertex_map[vertex] = connectivity[domain.topology.original_cell_index][cell][i]\n",
        "\n",
        "u_alt.x.array[:] = internal_mesh.point_data[\"U\"][vertex_map].flatten()\n",
        "internal_mesh.point_data[\"U\"].shape\n",
        "\n",
        "u_alt.x.array.shape"
      ]
    },
    {
      "cell_type": "code",
      "execution_count": 48,
      "metadata": {},
      "outputs": [],
      "source": [
        "writer = dolfinx.io.VTXWriter(MPI.COMM_WORLD, \"velocity_points.bp\", u_alt, engine=\"BP5\")\n",
        "writer.write(t=0)"
      ]
    }
  ],
  "metadata": {
    "kernelspec": {
      "display_name": "fenicsx-env",
      "language": "python",
      "name": "python3"
    },
    "language_info": {
      "codemirror_mode": {
        "name": "ipython",
        "version": 3
      },
      "file_extension": ".py",
      "mimetype": "text/x-python",
      "name": "python",
      "nbconvert_exporter": "python",
      "pygments_lexer": "ipython3",
      "version": "3.12.8"
    }
  },
  "nbformat": 4,
  "nbformat_minor": 0
}
